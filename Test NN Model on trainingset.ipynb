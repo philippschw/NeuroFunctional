{
 "cells": [
  {
   "cell_type": "code",
   "execution_count": null,
   "metadata": {
    "collapsed": false
   },
   "outputs": [],
   "source": [
    "%matplotlib inline\n",
    "from __future__ import division \n",
    "import numpy as np\n",
    "import matplotlib.pyplot as plt\n",
    "import matplotlib\n",
    "import seaborn as sns\n",
    "sns.set_style('whitegrid', {'axes.grid':  False})\n",
    "from PIL import Image\n",
    "import sys\n",
    "sys.path.append('/home/philipp/caffe/python') \n",
    "import caffe\n",
    "\n",
    "caffe.set_mode_cpu()\n",
    "\n",
    "#load the model\n",
    "model_path = '/home/philipp/caffe/models/bvlc_reference_caffenet/'\n",
    "net_fn = model_path + 'deploy.prototxt'\n",
    "param_fn = model_path+ 'caffenet_train_iter_10000_dropout06.caffemodel'\n",
    "\n",
    "net = caffe.Net(net_fn,\n",
    "                param_fn,\n",
    "                caffe.TEST)\n",
    "\n",
    "# load input and configure preprocessing\n",
    "transformer = caffe.io.Transformer({'data': net.blobs['data'].data.shape})\n",
    "transformer_path ='/home/philipp/caffe/python/caffe/imagenet/'\n",
    "transformer.set_mean('data', np.load(transformer_path+'ilsvrc_2012_mean.npy').mean(1).mean(1))\n",
    "transformer.set_transpose('data', (2,0,1))\n",
    "transformer.set_channel_swap('data', (2,1,0))\n",
    "transformer.set_raw_scale('data', 255.0)\n",
    "\n",
    "#note we can change the batch size on-the-fly\n",
    "#since we classify only one image, we change batch size from 10 to 1\n",
    "net.blobs['data'].reshape(1,3,227,227)\n",
    "\n",
    "image_path = '/home/philipp/caffe/data/AVA/trainingset/preprocesed/'\n",
    "all_image_path = image_path+'*.jpg'\n"
   ]
  },
  {
   "cell_type": "code",
   "execution_count": null,
   "metadata": {
    "collapsed": true
   },
   "outputs": [],
   "source": [
    "def return_class(image):\n",
    "#load the image in the data layer\n",
    "    im = caffe.io.load_image(image)\n",
    "    net.blobs['data'].data[...] = transformer.preprocess('data', im)\n",
    "    out = net.forward()\n",
    "    return out['prob'].argmax()"
   ]
  },
  {
   "cell_type": "markdown",
   "metadata": {},
   "source": [
    "##### Example Output for single image"
   ]
  },
  {
   "cell_type": "code",
   "execution_count": null,
   "metadata": {
    "collapsed": false
   },
   "outputs": [],
   "source": [
    "image = image_path+'14678.jpg'\n",
    "array = return_class(image)\n",
    "print 'This  image is :',array\n",
    "plt.imshow(caffe.io.load_image(image));"
   ]
  },
  {
   "cell_type": "code",
   "execution_count": null,
   "metadata": {
    "collapsed": false
   },
   "outputs": [],
   "source": [
    "import os\n",
    "print 'number of image files: ', len(os.walk(image_path).next()[2])"
   ]
  },
  {
   "cell_type": "code",
   "execution_count": null,
   "metadata": {
    "collapsed": false
   },
   "outputs": [],
   "source": [
    "import glob\n",
    "# Create dict with image name as key and the prediction from the NN as value\n",
    "lst_pred = {}\n",
    "for row_number, image in enumerate(glob.glob(all_image_path)): #fill an entire row\n",
    "    pred = return_class(image) \n",
    "    lst_pred[image.split('/')[8]]= pred"
   ]
  },
  {
   "cell_type": "code",
   "execution_count": null,
   "metadata": {
    "collapsed": false
   },
   "outputs": [],
   "source": [
    "import pandas as pd\n",
    "df_NN_pred = pd.DataFrame.from_dict(lst_pred, orient='index')\n",
    "\n",
    "path_train_label= '/home/philipp/caffe/data/AVA/train.txt'\n",
    "\n",
    "data = pd.read_csv(path_train_label, sep=\" \", header = None)\n",
    "data.columns = [\"image\", 'label']\n",
    "data = data.set_index('image')\n",
    "data= data.join(df_NN_pred, how='outer')\n",
    "data = data.rename(columns={0: 'pred'})\n",
    "data.head()"
   ]
  },
  {
   "cell_type": "markdown",
   "metadata": {},
   "source": [
    "#### Model Fit on training data"
   ]
  },
  {
   "cell_type": "code",
   "execution_count": null,
   "metadata": {
    "collapsed": false
   },
   "outputs": [],
   "source": [
    "data['fit'] = abs(data.label-data.pred)\n",
    "data.fit[data.fit==0].count()/len(data)"
   ]
  },
  {
   "cell_type": "code",
   "execution_count": null,
   "metadata": {
    "collapsed": true
   },
   "outputs": [],
   "source": [
    "data.to_csv('ModelFit_on_TrainingData_v2.csv')"
   ]
  },
  {
   "cell_type": "code",
   "execution_count": null,
   "metadata": {
    "collapsed": true
   },
   "outputs": [],
   "source": []
  }
 ],
 "metadata": {
  "kernelspec": {
   "display_name": "Python 2",
   "language": "python",
   "name": "python2"
  },
  "language_info": {
   "codemirror_mode": {
    "name": "ipython",
    "version": 2
   },
   "file_extension": ".py",
   "mimetype": "text/x-python",
   "name": "python",
   "nbconvert_exporter": "python",
   "pygments_lexer": "ipython2",
   "version": "2.7.6"
  },
  "widgets": {
   "state": {},
   "version": "1.1.2"
  }
 },
 "nbformat": 4,
 "nbformat_minor": 0
}
