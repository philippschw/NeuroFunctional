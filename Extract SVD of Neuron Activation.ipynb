{
 "cells": [
  {
   "cell_type": "code",
   "execution_count": 1,
   "metadata": {
    "collapsed": true
   },
   "outputs": [],
   "source": [
    "%matplotlib inline"
   ]
  },
  {
   "cell_type": "code",
   "execution_count": 3,
   "metadata": {
    "collapsed": false
   },
   "outputs": [
    {
     "name": "stdout",
     "output_type": "stream",
     "text": [
      "0\n"
     ]
    },
    {
     "data": {
      "image/png": "[encoded data removed]",
      "text/plain": [
       "<matplotlib.figure.Figure at 0x7f717fe5f490>"
      ]
     },
     "metadata": {},
     "output_type": "display_data"
    }
   ],
   "source": [
    "# D. van den Berg\n",
    "# Source: http://christopher5106.github.io/deep/learning/2015/09/04/Deep-learning-tutorial-on-Caffe-Technology.html\n",
    "\n",
    "import numpy as np\n",
    "import matplotlib.pyplot as plt\n",
    "import matplotlib\n",
    "import seaborn as sns\n",
    "from PIL import Image\n",
    "import sys\n",
    "sys.path.append('/home/philipp/caffe/caffe-master/python') \n",
    "import caffe\n",
    "\n",
    "# finding the activation values of the last fully connected neuron layer (fc7) for a single image input\n",
    "\n",
    "#Init\n",
    "caffe.set_mode_cpu()\n",
    "\n",
    "#load the model\n",
    "model_path = '/home/philipp/NeuroFunctional-master/models/bvlc_reference_caffenet/'\n",
    "# net_fn   = model_path + '/bck/deploy.prototxt'\n",
    "\n",
    "net_fn = model_path + 'bck/deploy.prototxt'\n",
    "\n",
    "# UnicodeDecodeError\n",
    "# import gzip\n",
    "# fp = gzip.open(model_path + r'caffenet_train_iter_10000.caffemodel.gz')\n",
    "# param_fn = fp.read() # contents now has the uncompressed bytes of foo.gz\n",
    "# fp.close()\n",
    "# param_fn = param_fn.decode('ascii') # u_str is now a unicode string\n",
    "\n",
    "param_fn = model_path+ 'caffenet_train_iter_10000.caffemodel'\n",
    "# param_fn = model_path + 'caffenet_train_iter_45000.caffemodel'\n",
    "\n",
    "net = caffe.Net(net_fn,\n",
    "                param_fn,\n",
    "                caffe.TEST)\n",
    "\n",
    "# load input and configure preprocessing\n",
    "transformer = caffe.io.Transformer({'data': net.blobs['data'].data.shape})\n",
    "transformer_path ='/home/philipp/NeuroFunctional-master/python/caffe/imagenet/'\n",
    "transformer.set_mean('data', np.load(transformer_path+'ilsvrc_2012_mean.npy').mean(1).mean(1))\n",
    "transformer.set_transpose('data', (2,0,1))\n",
    "transformer.set_channel_swap('data', (2,1,0))\n",
    "transformer.set_raw_scale('data', 255.0)\n",
    "\n",
    "#note we can change the batch size on-the-fly\n",
    "#since we classify only one image, we change batch size from 10 to 1\n",
    "net.blobs['data'].reshape(1,3,227,227)\n",
    "\n",
    "#load the image in the data layer\n",
    "image_path = 'AVA/trainingset/preprocesed/'\n",
    "image_name = '203.jpg'\n",
    "im = caffe.io.load_image(image_path+image_name)\n",
    "net.blobs['data'].data[...] = transformer.preprocess('data', im)\n",
    "\n",
    "#compute\n",
    "out = net.forward()\n",
    "\n",
    "# other possibility : out = net.forward_all(data=np.asarray([transformer.preprocess('data', im)]))\n",
    "\n",
    "#predicted predicted class\n",
    "print(out['prob'].argmax())\n",
    "\n",
    "#print predicted labels\n",
    "# labels = np.loadtxt(\"/home/philipp/caffe/caffe-master/data/ilsvrc12/synset_words.txt\", str, delimiter='\\t')\n",
    "# top_k = net.blobs['prob'].data[0].flatten().argsort()[-1:-6:-1]\n",
    "# print(labels[top_k])\n",
    "\n",
    "#print pre-last layer\n",
    "x = net.blobs['fc7']\n",
    "plt.plot(x.data[0]);"
   ]
  },
  {
   "cell_type": "code",
   "execution_count": null,
   "metadata": {
    "collapsed": false
   },
   "outputs": [],
   "source": [
    "x.data[0]"
   ]
  },
  {
   "cell_type": "code",
   "execution_count": null,
   "metadata": {
    "collapsed": false
   },
   "outputs": [],
   "source": [
    "len(x.data[0])"
   ]
  },
  {
   "cell_type": "code",
   "execution_count": null,
   "metadata": {
    "collapsed": false
   },
   "outputs": [],
   "source": [
    "import os\n",
    "print 'number of image files: ', len(os.walk('AVA/trainingset/preprocesed').next()[2])"
   ]
  },
  {
   "cell_type": "code",
   "execution_count": null,
   "metadata": {
    "collapsed": false
   },
   "outputs": [],
   "source": [
    "def get_activation_fc7(image):\n",
    "#load the image in the data layer\n",
    "    im = caffe.io.load_image(image)\n",
    "    net.blobs['data'].data[...] = transformer.preprocess('data', im)\n",
    "    x = net.blobs['fc7']\n",
    "    \n",
    "# other possibility : out = net.forward_all(data=np.asarray([transformer.preprocess('data', im)]))\n",
    "\n",
    "    # return activations of neuron layer and predicted class as label   \n",
    "    return x.data[0]"
   ]
  },
  {
   "cell_type": "code",
   "execution_count": null,
   "metadata": {
    "collapsed": false
   },
   "outputs": [],
   "source": [
    "import glob\n",
    "\n",
    "labels = np.loadtxt(\"/home/philipp/caffe/caffe-master/data/ilsvrc12/synset_words.txt\", str, delimiter='\\t')\n",
    "\n",
    "image_path = \"AVA/trainingset/preprocesed/*.jpg\"\n",
    "\n",
    "nr_images  = len(glob.glob(image_path))\n",
    "\n",
    "my_array = np.zeros((nr_images, 4096)) #np array rows, columns\n",
    "for row_number, image in enumerate(glob.glob(image_path)): #fill an entire row\n",
    "    my_array[row_number:] = get_activation_fc7(image)  \n",
    "    "
   ]
  },
  {
   "cell_type": "code",
   "execution_count": null,
   "metadata": {
    "collapsed": true
   },
   "outputs": [],
   "source": [
    "# def get_activation_fc7_and_label(image):\n",
    "# #load the image in the data layer\n",
    "#     im = caffe.io.load_image(image)\n",
    "#     net.blobs['data'].data[...] = transformer.preprocess('data', im)\n",
    "#     x = net.blobs['fc7']\n",
    "    \n",
    "#     out = net.forward()\n",
    "\n",
    "# # other possibility : out = net.forward_all(data=np.asarray([transformer.preprocess('data', im)]))\n",
    "\n",
    "#     # return activations of neuron layer and predicted class as label   \n",
    "#     return x.data[0], labels[out['prob'].argmax()]"
   ]
  },
  {
   "cell_type": "code",
   "execution_count": null,
   "metadata": {
    "collapsed": false
   },
   "outputs": [],
   "source": [
    "# import glob\n",
    "\n",
    "# labels = np.loadtxt(\"/home/philipp/caffe/caffe-master/data/ilsvrc12/synset_words.txt\", str, delimiter='\\t')\n",
    "\n",
    "# image_path = \"AVA/trainingset/preprocesed/*.jpg\"\n",
    "\n",
    "# nr_images  = len(glob.glob(image_path))\n",
    "\n",
    "# # dict_arrays = dict((x, my_array) for x in labels)\n",
    "\n",
    "# my_array = np.zeros((nr_images, 4096)) #np array rows, columns\n",
    "# for row_number, image in enumerate(glob.glob(image_path)): #fill an entire row\n",
    "#     activations, label     =    get_activation_fc7_and_label(image)  \n",
    "#     if label == 'n04592741 wing':\n",
    "#         print 'Condition True for wing label'\n",
    "#         my_array[row_number:] =     activations"
   ]
  },
  {
   "cell_type": "code",
   "execution_count": null,
   "metadata": {
    "collapsed": false
   },
   "outputs": [],
   "source": [
    "labels[908]"
   ]
  },
  {
   "cell_type": "code",
   "execution_count": null,
   "metadata": {
    "collapsed": false
   },
   "outputs": [],
   "source": [
    "len(labels)"
   ]
  },
  {
   "cell_type": "code",
   "execution_count": null,
   "metadata": {
    "collapsed": false
   },
   "outputs": [],
   "source": [
    "my_array[0].min()"
   ]
  },
  {
   "cell_type": "code",
   "execution_count": null,
   "metadata": {
    "collapsed": false
   },
   "outputs": [],
   "source": [
    "my_array[0].max()"
   ]
  },
  {
   "cell_type": "code",
   "execution_count": null,
   "metadata": {
    "collapsed": false
   },
   "outputs": [],
   "source": [
    "np.savetxt(\"Neuron_activation_penultimate_layer/{}.csv\".format(image_name), my_array, delimiter=\",\")"
   ]
  },
  {
   "cell_type": "code",
   "execution_count": null,
   "metadata": {
    "collapsed": false
   },
   "outputs": [],
   "source": [
    "# from numpy import genfromtxt\n",
    "my_data = np.genfromtxt(\"Neuron_activation_penultimate_layer/{}.csv\".format(image_name), delimiter=',')"
   ]
  },
  {
   "cell_type": "code",
   "execution_count": null,
   "metadata": {
    "collapsed": true
   },
   "outputs": [],
   "source": [
    "mydata = my_array"
   ]
  },
  {
   "cell_type": "markdown",
   "metadata": {},
   "source": [
    "#### Singular Value Decomposition (SVD)\n",
    "The singular values are the spuare root of the eigenvalues of Data*Data.T \n",
    "\n",
    "In essence, SVD is a data summary method. It extracts important features from data. Because of its ability to reconstruct an original dataset from an compressed dataset, SVD can be used as efficient image compression method. "
   ]
  },
  {
   "cell_type": "code",
   "execution_count": null,
   "metadata": {
    "collapsed": false
   },
   "outputs": [],
   "source": [
    "dataT = my_data.T\n",
    "P, D, Q = np.linalg.svd(dataT)"
   ]
  },
  {
   "cell_type": "code",
   "execution_count": null,
   "metadata": {
    "collapsed": false
   },
   "outputs": [],
   "source": [
    "dataT.shape[1]"
   ]
  },
  {
   "cell_type": "code",
   "execution_count": null,
   "metadata": {
    "collapsed": false
   },
   "outputs": [],
   "source": [
    "len(P), len(D), len(Q)"
   ]
  },
  {
   "cell_type": "code",
   "execution_count": null,
   "metadata": {
    "collapsed": false
   },
   "outputs": [],
   "source": [
    "plt.figure(figsize=(20, 5))\n",
    "\n",
    "plt.subplot(121)\n",
    "plt.plot(P[:,1])\n",
    "\n",
    "plt.subplot(122)\n",
    "plt.plot((np.absolute(P[:,1])));"
   ]
  },
  {
   "cell_type": "code",
   "execution_count": null,
   "metadata": {
    "collapsed": false
   },
   "outputs": [],
   "source": [
    "import pandas as pd\n",
    "df_P = pd.DataFrame(P[:,1])"
   ]
  },
  {
   "cell_type": "code",
   "execution_count": null,
   "metadata": {
    "collapsed": false
   },
   "outputs": [],
   "source": [
    "print 'Neuron with max positive activation: ', df_P.idxmax()[0], '    Neuron with max negative activation: ', df_P.idxmin()[0]"
   ]
  },
  {
   "cell_type": "code",
   "execution_count": null,
   "metadata": {
    "collapsed": false
   },
   "outputs": [],
   "source": [
    "eigvals = D**2 / np.cumsum(D)[-1]\n",
    "\n",
    "fig = plt.figure(figsize=(8,5))\n",
    "sing_vals = np.arange(dataT.shape[1]) + 1\n",
    "plt.plot(sing_vals, eigvals, 'ro-', linewidth=2)\n",
    "plt.title('Screeplot')\n",
    "plt.xlabel('Principal Component')\n",
    "plt.ylabel('Eigenvalue')\n",
    "#I don't like the default legend so I typically make mine like below, e.g.\n",
    "#with smaller fonts and a bit transparent so I do not cover up data, and make\n",
    "#it moveable by the viewer in case upper-right is a bad place for it \n",
    "leg = plt.legend(['Eigenvalues from SVD'], loc='best', borderpad=0.3, \n",
    "                 shadow=False, prop=matplotlib.font_manager.FontProperties(size='small'),\n",
    "                 markerscale=0.4)\n",
    "leg.get_frame().set_alpha(0.4)\n",
    "leg.draggable(state=True)\n",
    "plt.xlim([0, 5])\n",
    "plt.show()"
   ]
  },
  {
   "cell_type": "code",
   "execution_count": null,
   "metadata": {
    "collapsed": false
   },
   "outputs": [],
   "source": [
    "D"
   ]
  },
  {
   "cell_type": "code",
   "execution_count": null,
   "metadata": {
    "collapsed": false
   },
   "outputs": [],
   "source": [
    "Q =  Q * 10000000\n",
    "plt.imshow(Q, interpolation='none', cmap='jet')\n",
    "ax = plt.gca()\n",
    "plt.title(\"$V$\")\n",
    "plt.yscale=('log')\n",
    "plt.xscale=('log')\n",
    "ax.grid(b=False)\n",
    "plt.colorbar();"
   ]
  },
  {
   "cell_type": "code",
   "execution_count": null,
   "metadata": {
    "collapsed": true
   },
   "outputs": [],
   "source": []
  }
 ],
 "metadata": {
  "kernelspec": {
   "display_name": "Python 2",
   "language": "python",
   "name": "python2"
  },
  "language_info": {
   "codemirror_mode": {
    "name": "ipython",
    "version": 2
   },
   "file_extension": ".py",
   "mimetype": "text/x-python",
   "name": "python",
   "nbconvert_exporter": "python",
   "pygments_lexer": "ipython2",
   "version": "2.7.6"
  },
  "widgets": {
   "state": {},
   "version": "1.1.2"
  }
 },
 "nbformat": 4,
 "nbformat_minor": 0
}
